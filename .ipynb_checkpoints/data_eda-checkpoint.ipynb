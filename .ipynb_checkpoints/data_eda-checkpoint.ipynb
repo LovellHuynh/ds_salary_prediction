{
 "cells": [
  {
   "cell_type": "code",
   "execution_count": 9,
   "metadata": {},
   "outputs": [],
   "source": [
    "import pandas as pd\n",
    "import matplotlib.pyplot as plt\n",
    "import seaborn as sns"
   ]
  },
  {
   "cell_type": "code",
   "execution_count": 14,
   "metadata": {},
   "outputs": [
    {
     "data": {
      "text/html": [
       "<div>\n",
       "<style scoped>\n",
       "    .dataframe tbody tr th:only-of-type {\n",
       "        vertical-align: middle;\n",
       "    }\n",
       "\n",
       "    .dataframe tbody tr th {\n",
       "        vertical-align: top;\n",
       "    }\n",
       "\n",
       "    .dataframe thead th {\n",
       "        text-align: right;\n",
       "    }\n",
       "</style>\n",
       "<table border=\"1\" class=\"dataframe\">\n",
       "  <thead>\n",
       "    <tr style=\"text-align: right;\">\n",
       "      <th></th>\n",
       "      <th>Job Title</th>\n",
       "      <th>Company Name</th>\n",
       "      <th>Rating</th>\n",
       "      <th>Workplace</th>\n",
       "      <th>Salary</th>\n",
       "      <th>Posted Day</th>\n",
       "      <th>Job Type</th>\n",
       "      <th>Job Description</th>\n",
       "      <th>Size</th>\n",
       "      <th>Type</th>\n",
       "      <th>...</th>\n",
       "      <th>hourly</th>\n",
       "      <th>min_salary</th>\n",
       "      <th>max_salary</th>\n",
       "      <th>avg_salary</th>\n",
       "      <th>job_state</th>\n",
       "      <th>age</th>\n",
       "      <th>python_yn</th>\n",
       "      <th>r_yn</th>\n",
       "      <th>aws_yn</th>\n",
       "      <th>spark_yn</th>\n",
       "    </tr>\n",
       "  </thead>\n",
       "  <tbody>\n",
       "    <tr>\n",
       "      <th>0</th>\n",
       "      <td>Data Scientist</td>\n",
       "      <td>ATX Consulting</td>\n",
       "      <td>-1.0</td>\n",
       "      <td>Remote</td>\n",
       "      <td>$82 - $85 Per Hour(Employer est.)</td>\n",
       "      <td>3d ago from 2021-07-26 16:00:33.634211</td>\n",
       "      <td>Full-time</td>\n",
       "      <td>About us: ATX Consulting is a leading Austin T...</td>\n",
       "      <td>NaN</td>\n",
       "      <td>NaN</td>\n",
       "      <td>...</td>\n",
       "      <td>1</td>\n",
       "      <td>82</td>\n",
       "      <td>85</td>\n",
       "      <td>83.5</td>\n",
       "      <td>NaN</td>\n",
       "      <td>NaN</td>\n",
       "      <td>0</td>\n",
       "      <td>0</td>\n",
       "      <td>0</td>\n",
       "      <td>0</td>\n",
       "    </tr>\n",
       "    <tr>\n",
       "      <th>1</th>\n",
       "      <td>Data Scientist Consultant</td>\n",
       "      <td>Microagility</td>\n",
       "      <td>5.0</td>\n",
       "      <td>Remote</td>\n",
       "      <td>$79K - $181K (Employer est.)</td>\n",
       "      <td>9d ago from 2021-07-26 16:00:34.181862</td>\n",
       "      <td>Full-time</td>\n",
       "      <td>We are looking for a hands-on, agile, and resu...</td>\n",
       "      <td>1 to 50 Employees</td>\n",
       "      <td>Company - Private</td>\n",
       "      <td>...</td>\n",
       "      <td>0</td>\n",
       "      <td>79</td>\n",
       "      <td>181</td>\n",
       "      <td>130.0</td>\n",
       "      <td>NaN</td>\n",
       "      <td>NaN</td>\n",
       "      <td>1</td>\n",
       "      <td>0</td>\n",
       "      <td>0</td>\n",
       "      <td>1</td>\n",
       "    </tr>\n",
       "    <tr>\n",
       "      <th>2</th>\n",
       "      <td>Data Scientist</td>\n",
       "      <td>Halo Solutions</td>\n",
       "      <td>-1.0</td>\n",
       "      <td>Remote</td>\n",
       "      <td>$24 - $29 Per Hour(Employer est.)</td>\n",
       "      <td>11d ago from 2021-07-26 16:00:37.168951</td>\n",
       "      <td>Part-time</td>\n",
       "      <td>Data Scientist for Halo Solutions\\nJob Title: ...</td>\n",
       "      <td>NaN</td>\n",
       "      <td>NaN</td>\n",
       "      <td>...</td>\n",
       "      <td>1</td>\n",
       "      <td>24</td>\n",
       "      <td>29</td>\n",
       "      <td>26.5</td>\n",
       "      <td>NaN</td>\n",
       "      <td>NaN</td>\n",
       "      <td>1</td>\n",
       "      <td>0</td>\n",
       "      <td>0</td>\n",
       "      <td>1</td>\n",
       "    </tr>\n",
       "    <tr>\n",
       "      <th>3</th>\n",
       "      <td>Data Scientist</td>\n",
       "      <td>Scalarr</td>\n",
       "      <td>-1.0</td>\n",
       "      <td>Remote</td>\n",
       "      <td>$48K - $96K (Employer est.)</td>\n",
       "      <td>3d ago from 2021-07-26 16:00:39.248909</td>\n",
       "      <td>Temporary</td>\n",
       "      <td>We’re looking for a talented Data Scientist to...</td>\n",
       "      <td>NaN</td>\n",
       "      <td>NaN</td>\n",
       "      <td>...</td>\n",
       "      <td>0</td>\n",
       "      <td>48</td>\n",
       "      <td>96</td>\n",
       "      <td>72.0</td>\n",
       "      <td>NaN</td>\n",
       "      <td>NaN</td>\n",
       "      <td>1</td>\n",
       "      <td>0</td>\n",
       "      <td>0</td>\n",
       "      <td>0</td>\n",
       "    </tr>\n",
       "    <tr>\n",
       "      <th>4</th>\n",
       "      <td>Data Scientist</td>\n",
       "      <td>Amer Technology In</td>\n",
       "      <td>-1.0</td>\n",
       "      <td>Austin, TX</td>\n",
       "      <td>$72 - $77 Per Hour(Employer est.)</td>\n",
       "      <td>6d ago from 2021-07-26 16:00:41.412858</td>\n",
       "      <td>Full-time</td>\n",
       "      <td>Data Scientist Roles and Responsibilities\\n1. ...</td>\n",
       "      <td>NaN</td>\n",
       "      <td>NaN</td>\n",
       "      <td>...</td>\n",
       "      <td>1</td>\n",
       "      <td>72</td>\n",
       "      <td>77</td>\n",
       "      <td>74.5</td>\n",
       "      <td>TX</td>\n",
       "      <td>NaN</td>\n",
       "      <td>0</td>\n",
       "      <td>0</td>\n",
       "      <td>1</td>\n",
       "      <td>0</td>\n",
       "    </tr>\n",
       "  </tbody>\n",
       "</table>\n",
       "<p>5 rows × 24 columns</p>\n",
       "</div>"
      ],
      "text/plain": [
       "                   Job Title        Company Name  Rating   Workplace  \\\n",
       "0             Data Scientist      ATX Consulting    -1.0      Remote   \n",
       "1  Data Scientist Consultant        Microagility     5.0      Remote   \n",
       "2             Data Scientist      Halo Solutions    -1.0      Remote   \n",
       "3             Data Scientist             Scalarr    -1.0      Remote   \n",
       "4             Data Scientist  Amer Technology In    -1.0  Austin, TX   \n",
       "\n",
       "                              Salary                               Posted Day  \\\n",
       "0  $82 - $85 Per Hour(Employer est.)   3d ago from 2021-07-26 16:00:33.634211   \n",
       "1       $79K - $181K (Employer est.)   9d ago from 2021-07-26 16:00:34.181862   \n",
       "2  $24 - $29 Per Hour(Employer est.)  11d ago from 2021-07-26 16:00:37.168951   \n",
       "3        $48K - $96K (Employer est.)   3d ago from 2021-07-26 16:00:39.248909   \n",
       "4  $72 - $77 Per Hour(Employer est.)   6d ago from 2021-07-26 16:00:41.412858   \n",
       "\n",
       "     Job Type                                    Job Description  \\\n",
       "0   Full-time  About us: ATX Consulting is a leading Austin T...   \n",
       "1   Full-time  We are looking for a hands-on, agile, and resu...   \n",
       "2   Part-time  Data Scientist for Halo Solutions\\nJob Title: ...   \n",
       "3   Temporary  We’re looking for a talented Data Scientist to...   \n",
       "4   Full-time  Data Scientist Roles and Responsibilities\\n1. ...   \n",
       "\n",
       "                Size               Type  ... hourly min_salary max_salary  \\\n",
       "0                NaN                NaN  ...      1         82         85   \n",
       "1  1 to 50 Employees  Company - Private  ...      0         79        181   \n",
       "2                NaN                NaN  ...      1         24         29   \n",
       "3                NaN                NaN  ...      0         48         96   \n",
       "4                NaN                NaN  ...      1         72         77   \n",
       "\n",
       "   avg_salary  job_state  age  python_yn  r_yn aws_yn  spark_yn  \n",
       "0        83.5        NaN  NaN          0     0      0         0  \n",
       "1       130.0        NaN  NaN          1     0      0         1  \n",
       "2        26.5        NaN  NaN          1     0      0         1  \n",
       "3        72.0        NaN  NaN          1     0      0         0  \n",
       "4        74.5         TX  NaN          0     0      1         0  \n",
       "\n",
       "[5 rows x 24 columns]"
      ]
     },
     "execution_count": 14,
     "metadata": {},
     "output_type": "execute_result"
    }
   ],
   "source": [
    "df = pd.read_csv('salary_data_cleaned.csv', index_col=0)\n",
    "df.head()"
   ]
  },
  {
   "cell_type": "code",
   "execution_count": 15,
   "metadata": {},
   "outputs": [
    {
     "data": {
      "text/plain": [
       "Index(['Job Title', 'Company Name', 'Rating', 'Workplace', 'Salary',\n",
       "       'Posted Day', 'Job Type', 'Job Description', 'Size', 'Type', 'Industry',\n",
       "       'Sector', 'Revenue', 'Founded', 'hourly', 'min_salary', 'max_salary',\n",
       "       'avg_salary', 'job_state', 'age', 'python_yn', 'r_yn', 'aws_yn',\n",
       "       'spark_yn'],\n",
       "      dtype='object')"
      ]
     },
     "execution_count": 15,
     "metadata": {},
     "output_type": "execute_result"
    }
   ],
   "source": [
    "df.columns"
   ]
  },
  {
   "cell_type": "code",
   "execution_count": 23,
   "metadata": {},
   "outputs": [],
   "source": [
    "def categorize(title, mapper, exception_case):\n",
    "    for cate in mapper:\n",
    "        try:\n",
    "            return next(cate for content in mapper[cate] if content in title.lower())\n",
    "        except StopIteration:\n",
    "            continue\n",
    "    \n",
    "    return exception_case"
   ]
  },
  {
   "cell_type": "code",
   "execution_count": 27,
   "metadata": {},
   "outputs": [],
   "source": [
    "category_mapper = {\n",
    "    'data scientist': ['data scientist'],\n",
    "    'data engineer': ['data engineer'],\n",
    "    'machine learning': ['mle'],\n",
    "    'analyst': ['analyst'],\n",
    "    'manager': ['manager'],\n",
    "    'director': ['director'],\n",
    "}\n",
    "\n",
    "df['job_cate'] = df['Job Title'].apply(categorize, args=(category_mapper, 'na'))"
   ]
  },
  {
   "cell_type": "code",
   "execution_count": 28,
   "metadata": {},
   "outputs": [
    {
     "data": {
      "text/plain": [
       "data scientist    255\n",
       "na                 20\n",
       "analyst             5\n",
       "Name: job_cate, dtype: int64"
      ]
     },
     "execution_count": 28,
     "metadata": {},
     "output_type": "execute_result"
    }
   ],
   "source": [
    "df['job_cate'].value_counts()"
   ]
  },
  {
   "cell_type": "code",
   "execution_count": 30,
   "metadata": {},
   "outputs": [],
   "source": [
    "seniority_mapper = {\n",
    "    'senior': ['sr', 'sr.', 'senior', 'lead', 'principal'],\n",
    "    'jr': ['jr', 'jr.'],\n",
    "}\n",
    "\n",
    "df['seniority'] = df['Job Title'].apply(categorize, args=(seniority_mapper, 'na'))"
   ]
  },
  {
   "cell_type": "code",
   "execution_count": 31,
   "metadata": {},
   "outputs": [
    {
     "data": {
      "text/plain": [
       "na        275\n",
       "senior      5\n",
       "Name: seniority, dtype: int64"
      ]
     },
     "execution_count": 31,
     "metadata": {},
     "output_type": "execute_result"
    }
   ],
   "source": [
    "df['seniority'].value_counts()"
   ]
  },
  {
   "cell_type": "code",
   "execution_count": 32,
   "metadata": {},
   "outputs": [
    {
     "data": {
      "text/plain": [
       "TX    47\n",
       "DC    21\n",
       "VA    20\n",
       "CA     8\n",
       "MD     6\n",
       "MA     4\n",
       "NY     4\n",
       "IL     4\n",
       "DE     2\n",
       "WA     1\n",
       "MN     1\n",
       "CO     1\n",
       "GA     1\n",
       "MI     1\n",
       "IA     1\n",
       "Name: job_state, dtype: int64"
      ]
     },
     "execution_count": 32,
     "metadata": {},
     "output_type": "execute_result"
    }
   ],
   "source": [
    "df['job_state'].value_counts()"
   ]
  },
  {
   "cell_type": "code",
   "execution_count": null,
   "metadata": {},
   "outputs": [],
   "source": []
  }
 ],
 "metadata": {
  "kernelspec": {
   "display_name": "Python 3",
   "language": "python",
   "name": "python3"
  },
  "language_info": {
   "codemirror_mode": {
    "name": "ipython",
    "version": 3
   },
   "file_extension": ".py",
   "mimetype": "text/x-python",
   "name": "python",
   "nbconvert_exporter": "python",
   "pygments_lexer": "ipython3",
   "version": "3.9.5"
  }
 },
 "nbformat": 4,
 "nbformat_minor": 4
}
